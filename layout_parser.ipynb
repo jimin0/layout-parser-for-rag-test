{
 "cells": [
  {
   "cell_type": "code",
   "execution_count": null,
   "metadata": {},
   "outputs": [],
   "source": [
    "!pip install langchain-teddynote markdownify pymupdf"
   ]
  },
  {
   "cell_type": "code",
   "execution_count": 2,
   "metadata": {},
   "outputs": [
    {
     "name": "stdout",
     "output_type": "stream",
     "text": [
      "LangSmith 추적을 시작합니다.\n",
      "[프로젝트명]\n",
      "Jimin-Parser-Test\n"
     ]
    }
   ],
   "source": [
    "from dotenv import load_dotenv\n",
    "from langchain_teddynote import logging\n",
    "\n",
    "load_dotenv()\n",
    "logging.langsmith(\"Jimin-Parser-Test\")"
   ]
  },
  {
   "cell_type": "code",
   "execution_count": 3,
   "metadata": {},
   "outputs": [],
   "source": [
    "import os\n",
    "import pymupdf\n",
    "from glob import glob\n",
    "import json\n",
    "import requests\n",
    "from PIL import Image"
   ]
  },
  {
   "cell_type": "code",
   "execution_count": 4,
   "metadata": {},
   "outputs": [],
   "source": [
    "SAMPlE = \"data/sample-report.pdf\""
   ]
  },
  {
   "cell_type": "markdown",
   "metadata": {},
   "source": [
    "## layout parsing algorithm"
   ]
  },
  {
   "cell_type": "markdown",
   "metadata": {},
   "source": [
    "레이아웃에서 가져온 이미지를 벡터디비에 넣고, 이미지를 다시 우리한테 꺼내서 보여줘야할 줄 알아야함. layout parser는 이 영역의 이미지가 존재한다를 알려주는거지, 이 이미지를 따로 따서 저장하지는 않음. \n",
    "\n",
    "- table도 이미지 캡처떠서 멀티 모달에 넣어서 그거에 마크다운 변환해서 넣어주면 성능이 좋아질것 같음. \n"
   ]
  },
  {
   "cell_type": "markdown",
   "metadata": {},
   "source": [
    "### 1. PDF 파일 분할\n",
    "\n",
    "#### 왜 분할 할까?\n",
    "- 100페이지 이상의 PDF 파일을 한 번에 처리할 경우 Upstage layout parsing API 오류 발생\n",
    "- 처리 효율성 및 속도 개선\n",
    "- 단일 페이지 처리는 api 전체 처리 시간을 증가시킴 \n",
    "\n",
    "#### 일케 해봅세\n",
    "- PDF 파일을 적절한 크기의 세그먼트로 분할하여 처리\n",
    "- 분할된 세그먼트를 순차적으로 API에 전송하여 처리 효율성 향상"
   ]
  },
  {
   "cell_type": "code",
   "execution_count": 14,
   "metadata": {},
   "outputs": [
    {
     "name": "stdout",
     "output_type": "stream",
     "text": [
      "총 페이지 수: 22\n",
      "분할: 0 ~ 9\n",
      "분할 PDF 저장: data/sample-report_0_9.pdf\n",
      "data/sample-report_0_9.pdf ret에 추가 \n",
      "분할: 10 ~ 19\n",
      "분할 PDF 저장: data/sample-report_10_19.pdf\n",
      "data/sample-report_10_19.pdf ret에 추가 \n",
      "분할: 20 ~ 21\n",
      "분할 PDF 저장: data/sample-report_20_21.pdf\n",
      "data/sample-report_20_21.pdf ret에 추가 \n"
     ]
    }
   ],
   "source": [
    "filepath = SAMPlE\n",
    "batch_size = 10\n",
    "\n",
    "input_pdf = pymupdf.open(filepath)\n",
    "num_pages = len(input_pdf)\n",
    "print(f\"총 페이지 수: {num_pages}\")\n",
    "\n",
    "\n",
    "ret_split_files= []\n",
    "\n",
    "# PDF 분할\n",
    "for start_page in range(0,num_pages,batch_size):\n",
    "    end_page = min(start_page + batch_size, num_pages) -1\n",
    "    print(f\"분할: {start_page} ~ {end_page}\")\n",
    "    \n",
    "    \n",
    "    # 분할된 PDF를 저장\n",
    "    input_file_basename = os.path.splitext(filepath)[0]\n",
    "    output_file = f\"{input_file_basename}_{start_page}_{end_page}.pdf\"\n",
    "    print(f\"분할 PDF 저장: {output_file}\")\n",
    "    with pymupdf.open() as output_pdf:\n",
    "        output_pdf.insert_pdf(input_pdf, from_page=start_page, to_page=end_page)\n",
    "        output_pdf.save(output_file)\n",
    "        ret_split_files.append(output_file)\n",
    "        print(f\"{output_file} ret에 추가 \")\n",
    "        \n",
    "input_pdf.close()"
   ]
  },
  {
   "cell_type": "code",
   "execution_count": 15,
   "metadata": {},
   "outputs": [
    {
     "name": "stdout",
     "output_type": "stream",
     "text": [
      "['data/sample-report_0_9.pdf', 'data/sample-report_10_19.pdf', 'data/sample-report_20_21.pdf']\n"
     ]
    }
   ],
   "source": [
    "print(ret_split_files)"
   ]
  },
  {
   "cell_type": "code",
   "execution_count": null,
   "metadata": {},
   "outputs": [],
   "source": []
  }
 ],
 "metadata": {
  "kernelspec": {
   "display_name": "rag",
   "language": "python",
   "name": "python3"
  },
  "language_info": {
   "codemirror_mode": {
    "name": "ipython",
    "version": 3
   },
   "file_extension": ".py",
   "mimetype": "text/x-python",
   "name": "python",
   "nbconvert_exporter": "python",
   "pygments_lexer": "ipython3",
   "version": "3.11.9"
  }
 },
 "nbformat": 4,
 "nbformat_minor": 2
}
