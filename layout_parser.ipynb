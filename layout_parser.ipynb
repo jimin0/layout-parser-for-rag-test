{
 "cells": [
  {
   "cell_type": "code",
   "execution_count": null,
   "metadata": {},
   "outputs": [],
   "source": [
    "!pip install langchain-teddynote markdownify pymupdf"
   ]
  },
  {
   "cell_type": "code",
   "execution_count": 29,
   "metadata": {},
   "outputs": [
    {
     "name": "stdout",
     "output_type": "stream",
     "text": [
      "LangSmith 추적을 시작합니다.\n",
      "[프로젝트명]\n",
      "Jimin-Parser-Test\n"
     ]
    }
   ],
   "source": [
    "from dotenv import load_dotenv\n",
    "from langchain_teddynote import logging\n",
    "\n",
    "load_dotenv()\n",
    "logging.langsmith(\"Jimin-Parser-Test\")"
   ]
  },
  {
   "cell_type": "code",
   "execution_count": 30,
   "metadata": {},
   "outputs": [],
   "source": [
    "import os\n",
    "import pymupdf\n",
    "from glob import glob\n",
    "import json\n",
    "import requests\n",
    "from PIL import Image"
   ]
  },
  {
   "cell_type": "code",
   "execution_count": 31,
   "metadata": {},
   "outputs": [],
   "source": [
    "SAMPlE = \"data/test-file.pdf\""
   ]
  },
  {
   "cell_type": "markdown",
   "metadata": {},
   "source": [
    "## Layout parsing algorithm"
   ]
  },
  {
   "cell_type": "markdown",
   "metadata": {},
   "source": [
    "레이아웃에서 가져온 이미지를 벡터디비에 넣고, 이미지를 다시 우리한테 꺼내서 보여줘야할 줄 알아야함. layout parser는 이 영역의 이미지가 존재한다를 알려주는거지, 이 이미지를 따로 따서 저장하지는 않음. \n",
    "\n",
    "- table도 이미지 캡처떠서 멀티 모달에 넣어서 그거에 마크다운 변환해서 넣어주면 성능이 좋아질것 같음. \n"
   ]
  },
  {
   "cell_type": "markdown",
   "metadata": {},
   "source": [
    "### 1. PDF 파일 분할\n",
    "\n",
    "#### 왜 분할 할까?\n",
    "- 100페이지 이상의 PDF 파일을 한 번에 처리할 경우 Upstage layout parsing API 오류 발생\n",
    "- 처리 효율성 및 속도 개선\n",
    "- 단일 페이지 처리는 api 전체 처리 시간을 증가시킴 \n",
    "\n",
    "#### 일케 해봅세\n",
    "- PDF 파일을 적절한 크기의 세그먼트로 분할하여 처리\n",
    "- 분할된 세그먼트를 순차적으로 API에 전송하여 처리 효율성 향상"
   ]
  },
  {
   "cell_type": "code",
   "execution_count": 32,
   "metadata": {},
   "outputs": [
    {
     "name": "stdout",
     "output_type": "stream",
     "text": [
      "총 페이지 수: 16\n",
      "분할: 0 ~ 9\n",
      "분할 PDF 저장: data/test-file_0_9.pdf\n",
      "data/test-file_0_9.pdf ret에 추가 \n",
      "분할: 10 ~ 15\n",
      "분할 PDF 저장: data/test-file_10_15.pdf\n",
      "data/test-file_10_15.pdf ret에 추가 \n"
     ]
    }
   ],
   "source": [
    "filepath = SAMPlE\n",
    "batch_size = 10\n",
    "\n",
    "input_pdf = pymupdf.open(filepath)\n",
    "num_pages = len(input_pdf)\n",
    "print(f\"총 페이지 수: {num_pages}\")\n",
    "\n",
    "\n",
    "ret_split_files= []\n",
    "\n",
    "# PDF 분할\n",
    "for start_page in range(0,num_pages,batch_size):\n",
    "    end_page = min(start_page + batch_size, num_pages) -1\n",
    "    print(f\"분할: {start_page} ~ {end_page}\")\n",
    "    \n",
    "    \n",
    "    # 분할된 PDF를 저장\n",
    "    input_file_basename = os.path.splitext(filepath)[0]\n",
    "    output_file = f\"{input_file_basename}_{start_page}_{end_page}.pdf\"\n",
    "    print(f\"분할 PDF 저장: {output_file}\")\n",
    "    with pymupdf.open() as output_pdf:\n",
    "        output_pdf.insert_pdf(input_pdf, from_page=start_page, to_page=end_page)\n",
    "        output_pdf.save(output_file)\n",
    "        ret_split_files.append(output_file)\n",
    "        print(f\"{output_file} ret에 추가 \")\n",
    "        \n",
    "input_pdf.close()"
   ]
  },
  {
   "cell_type": "code",
   "execution_count": 33,
   "metadata": {},
   "outputs": [
    {
     "name": "stdout",
     "output_type": "stream",
     "text": [
      "['data/test-file_0_9.pdf', 'data/test-file_10_15.pdf']\n"
     ]
    }
   ],
   "source": [
    "print(ret_split_files)\n",
    "split_files = ret_split_files"
   ]
  },
  {
   "cell_type": "markdown",
   "metadata": {},
   "source": [
    "### Upstage Layout Analyer\n",
    "[Layout Analyzer](https://www.content.upstage.ai/blog/business/introducing-layout-analysis)\n",
    "\n",
    "[Layout Analyzer Quick Start](https://developers.upstage.ai/docs/apis/document-parse)\n",
    "\n",
    "upstage layout analyer에 없는 별도의 클래스이다. 이 코드는 *테디* 님 코드를 참고하였다.\n",
    "\n",
    "\n",
    "언제 씀?\n",
    "- ocr 필요하면 -> true로 쓰기 \n",
    "\n",
    "언제 필요함?\n",
    "- pdf 텍스트가 긁어지면 x \n",
    "- 안긁어지면 true\n"
   ]
  },
  {
   "cell_type": "code",
   "execution_count": 34,
   "metadata": {},
   "outputs": [],
   "source": [
    "class LayoutAnalyzer:\n",
    "    def __init__(self, api_key):\n",
    "        self.api_key = api_key\n",
    "\n",
    "    def _upstage_layout_analysis(self, input_file):\n",
    "        \"\"\"\n",
    "        레이아웃 분석 API 호출\n",
    "\n",
    "        :param input_file: 분석할 PDF 파일 경로\n",
    "        :param output_file: 분석 결과를 저장할 JSON 파일 경로\n",
    "        \"\"\"\n",
    "        # API 요청 보내기\n",
    "        response = requests.post(\n",
    "            \"https://api.upstage.ai/v1/document-ai/layout-analysis\",\n",
    "            headers={\"Authorization\": f\"Bearer {self.api_key}\"},\n",
    "            data={\"ocr\": True},\n",
    "            files={\"document\": open(input_file, \"rb\")},\n",
    "        )\n",
    "\n",
    "        # 응답 저장\n",
    "        if response.status_code == 200:\n",
    "            output_file = os.path.splitext(input_file)[0] + \".json\"\n",
    "            with open(output_file, \"w\") as f:\n",
    "                json.dump(response.json(), f, ensure_ascii=False)\n",
    "            return output_file\n",
    "        else:\n",
    "            raise ValueError(f\"예상치 못한 상태 코드: {response.status_code}\")\n",
    "\n",
    "    def execute(self, input_file):\n",
    "        return self._upstage_layout_analysis(input_file)"
   ]
  },
  {
   "cell_type": "code",
   "execution_count": 35,
   "metadata": {},
   "outputs": [],
   "source": [
    "analyzer = LayoutAnalyzer(os.environ.get(\"UPSTAGE_API_KEY\"))\n",
    "\n",
    "analyzed_files = []\n",
    "\n",
    "for file in split_files:\n",
    "    analyzed_files.append(analyzer.execute(file))"
   ]
  },
  {
   "cell_type": "code",
   "execution_count": 36,
   "metadata": {},
   "outputs": [
    {
     "data": {
      "text/plain": [
       "['data/test-file_0_9.json', 'data/test-file_10_15.json']"
      ]
     },
     "execution_count": 36,
     "metadata": {},
     "output_type": "execute_result"
    }
   ],
   "source": [
    "analyzed_files"
   ]
  }
 ],
 "metadata": {
  "kernelspec": {
   "display_name": "rag",
   "language": "python",
   "name": "python3"
  },
  "language_info": {
   "codemirror_mode": {
    "name": "ipython",
    "version": 3
   },
   "file_extension": ".py",
   "mimetype": "text/x-python",
   "name": "python",
   "nbconvert_exporter": "python",
   "pygments_lexer": "ipython3",
   "version": "3.11.9"
  }
 },
 "nbformat": 4,
 "nbformat_minor": 2
}
